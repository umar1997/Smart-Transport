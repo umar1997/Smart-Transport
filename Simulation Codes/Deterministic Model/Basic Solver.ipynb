{
 "cells": [
  {
   "cell_type": "markdown",
   "metadata": {},
   "source": [
    "https://ychung38.medium.com/how-to-use-solver-excel-in-python-458336408c7f"
   ]
  },
  {
   "cell_type": "code",
   "execution_count": 2,
   "metadata": {},
   "outputs": [],
   "source": [
    "# import sys\n",
    "# !{sys.executable} -m pip install PuLP"
   ]
  },
  {
   "cell_type": "code",
   "execution_count": 3,
   "metadata": {},
   "outputs": [],
   "source": [
    "import pandas as pd"
   ]
  },
  {
   "cell_type": "code",
   "execution_count": 4,
   "metadata": {},
   "outputs": [],
   "source": [
    "df = pd.DataFrame({'Variable': ['x1', 'x2'],\n",
    "                   'Price': [45, 20],\n",
    "                   'Cost': [30, 10],\n",
    "                   'Demand': [2000, 8000]\n",
    "                    })\n",
    "\n",
    "df.eval('Margin=Price-Cost', inplace=True)"
   ]
  },
  {
   "cell_type": "code",
   "execution_count": 5,
   "metadata": {},
   "outputs": [
    {
     "data": {
      "text/html": [
       "<div>\n",
       "<style scoped>\n",
       "    .dataframe tbody tr th:only-of-type {\n",
       "        vertical-align: middle;\n",
       "    }\n",
       "\n",
       "    .dataframe tbody tr th {\n",
       "        vertical-align: top;\n",
       "    }\n",
       "\n",
       "    .dataframe thead th {\n",
       "        text-align: right;\n",
       "    }\n",
       "</style>\n",
       "<table border=\"1\" class=\"dataframe\">\n",
       "  <thead>\n",
       "    <tr style=\"text-align: right;\">\n",
       "      <th></th>\n",
       "      <th>Variable</th>\n",
       "      <th>Price</th>\n",
       "      <th>Cost</th>\n",
       "      <th>Demand</th>\n",
       "      <th>Margin</th>\n",
       "    </tr>\n",
       "  </thead>\n",
       "  <tbody>\n",
       "    <tr>\n",
       "      <th>0</th>\n",
       "      <td>x1</td>\n",
       "      <td>45</td>\n",
       "      <td>30</td>\n",
       "      <td>2000</td>\n",
       "      <td>15</td>\n",
       "    </tr>\n",
       "    <tr>\n",
       "      <th>1</th>\n",
       "      <td>x2</td>\n",
       "      <td>20</td>\n",
       "      <td>10</td>\n",
       "      <td>8000</td>\n",
       "      <td>10</td>\n",
       "    </tr>\n",
       "  </tbody>\n",
       "</table>\n",
       "</div>"
      ],
      "text/plain": [
       "  Variable  Price  Cost  Demand  Margin\n",
       "0       x1     45    30    2000      15\n",
       "1       x2     20    10    8000      10"
      ]
     },
     "execution_count": 5,
     "metadata": {},
     "output_type": "execute_result"
    }
   ],
   "source": [
    "df"
   ]
  },
  {
   "cell_type": "code",
   "execution_count": 6,
   "metadata": {},
   "outputs": [],
   "source": [
    "from pulp import *"
   ]
  },
  {
   "cell_type": "code",
   "execution_count": 7,
   "metadata": {},
   "outputs": [
    {
     "name": "stdout",
     "output_type": "stream",
     "text": [
      "{'x1': 15, 'x2': 10} {'x1': 2000, 'x2': 8000}\n"
     ]
    }
   ],
   "source": [
    "# set the dictionary for each feature\n",
    "prob = LpProblem('Sell', LpMaximize) # Objective function\n",
    "\n",
    "inv_items = list(df['Variable']) # Variable name\n",
    "\n",
    "margin = dict(zip(inv_items, df['Margin'])) # Function \n",
    "\n",
    "demand = dict(zip(inv_items, df['Demand'])) # Function\n",
    "\n",
    "print(margin, demand)\n",
    "\n",
    "# next, we are defining our decision variables as investments and are adding a few parameters to it\n",
    "inv_vars = LpVariable.dicts('Vairable', inv_items, lowBound=0, cat='Integer')\n",
    "\n",
    "# set the decision variables\n",
    "# all add in the problem setting\n",
    "prob += lpSum([inv_vars[i] * margin[i] for i in inv_items])\n",
    "\n",
    "# Constraint\n",
    "prob += lpSum([inv_vars[i] for i in inv_items]) <= 8000, 'Total Demand'\n",
    "\n",
    "# Constraint\n",
    "prob += inv_vars['x1'] <= 2000, 'x1 Demand'\n",
    "\n",
    "# Constraint\n",
    "prob += inv_vars['x2'] <= 8000, 'x2 Demand'"
   ]
  },
  {
   "cell_type": "code",
   "execution_count": 8,
   "metadata": {},
   "outputs": [
    {
     "data": {
      "text/plain": [
       "Sell:\n",
       "MAXIMIZE\n",
       "15*Vairable_x1 + 10*Vairable_x2 + 0\n",
       "SUBJECT TO\n",
       "Total_Demand: Vairable_x1 + Vairable_x2 <= 8000\n",
       "\n",
       "x1_Demand: Vairable_x1 <= 2000\n",
       "\n",
       "x2_Demand: Vairable_x2 <= 8000\n",
       "\n",
       "VARIABLES\n",
       "0 <= Vairable_x1 Integer\n",
       "0 <= Vairable_x2 Integer"
      ]
     },
     "execution_count": 8,
     "metadata": {},
     "output_type": "execute_result"
    }
   ],
   "source": [
    "prob"
   ]
  },
  {
   "cell_type": "code",
   "execution_count": 9,
   "metadata": {},
   "outputs": [
    {
     "data": {
      "text/plain": [
       "1"
      ]
     },
     "execution_count": 9,
     "metadata": {},
     "output_type": "execute_result"
    }
   ],
   "source": [
    "prob.solve()"
   ]
  },
  {
   "cell_type": "code",
   "execution_count": 10,
   "metadata": {},
   "outputs": [
    {
     "name": "stdout",
     "output_type": "stream",
     "text": [
      "The optimal answer\n",
      "----------------------------------------------------------------------\n",
      "Vairable_x1 = 2000.0\n",
      "Vairable_x2 = 6000.0\n"
     ]
    }
   ],
   "source": [
    "\n",
    "# Answer\n",
    "value(prob.objective) # 9000\n",
    "# Variables' values\n",
    "print('The optimal answer\\n'+'-'*70)\n",
    "for v in prob.variables():\n",
    "    if v.varValue > 0:\n",
    "       print(v.name, '=', v.varValue)"
   ]
  },
  {
   "cell_type": "markdown",
   "metadata": {},
   "source": [
    "### Example"
   ]
  },
  {
   "cell_type": "code",
   "execution_count": 14,
   "metadata": {},
   "outputs": [
    {
     "name": "stdout",
     "output_type": "stream",
     "text": [
      "{0: 'x1', 1: 'x2', 2: 'x3', 3: 'x4', 4: 'x5', 5: 'x6'}\n"
     ]
    },
    {
     "data": {
      "text/plain": [
       "{'12': ['x1', 'x2', 'x3'],\n",
       " '23': ['x2', 'x3', 'x4', 'x5'],\n",
       " '34': ['x3', 'x5', 'x6']}"
      ]
     },
     "execution_count": 14,
     "metadata": {},
     "output_type": "execute_result"
    }
   ],
   "source": [
    "LENGTH = 6\n",
    "\n",
    "Variables = ['x'+str(i+1) for i in range(LENGTH)]\n",
    "\n",
    "PROFIT = [7, 18, 30, 8, 15, 6]\n",
    "\n",
    "Vars2Dict = {}\n",
    "for i in range(LENGTH):\n",
    "    Vars2Dict[i] = Variables[i]\n",
    "\n",
    "Demand = [7, 6, 5, 4, 3, 2]\n",
    "\n",
    "Length = {\n",
    "    '12': 1,\n",
    "    '23': 2,\n",
    "    '34': 3 \n",
    "}\n",
    "\n",
    "Capacity = {\n",
    "    '12': 7,\n",
    "    '23': 8,\n",
    "    '34': 9 \n",
    "}\n",
    "\n",
    "Legs = {\n",
    "    '12':[1,1,1,0,0,0],\n",
    "    '23':[0,1,1,1,1,0],\n",
    "    '34':[0,0,1,0,1,1]\n",
    "}\n",
    "\n",
    "LEGS = list(Legs.keys())\n",
    "\n",
    "print(Vars2Dict)\n",
    "Constraints = {}\n",
    "for LEG in LEGS:\n",
    "    Constraints[LEG] = []\n",
    "    for Index, L in enumerate(Legs[LEG]):\n",
    "        if L:\n",
    "            Constraints[LEG].append(Vars2Dict[Index]) \n",
    "Constraints            "
   ]
  },
  {
   "cell_type": "code",
   "execution_count": 15,
   "metadata": {},
   "outputs": [
    {
     "data": {
      "text/html": [
       "<div>\n",
       "<style scoped>\n",
       "    .dataframe tbody tr th:only-of-type {\n",
       "        vertical-align: middle;\n",
       "    }\n",
       "\n",
       "    .dataframe tbody tr th {\n",
       "        vertical-align: top;\n",
       "    }\n",
       "\n",
       "    .dataframe thead th {\n",
       "        text-align: right;\n",
       "    }\n",
       "</style>\n",
       "<table border=\"1\" class=\"dataframe\">\n",
       "  <thead>\n",
       "    <tr style=\"text-align: right;\">\n",
       "      <th></th>\n",
       "      <th>Variable</th>\n",
       "      <th>Demand</th>\n",
       "    </tr>\n",
       "  </thead>\n",
       "  <tbody>\n",
       "    <tr>\n",
       "      <th>0</th>\n",
       "      <td>x1</td>\n",
       "      <td>7</td>\n",
       "    </tr>\n",
       "    <tr>\n",
       "      <th>1</th>\n",
       "      <td>x2</td>\n",
       "      <td>6</td>\n",
       "    </tr>\n",
       "    <tr>\n",
       "      <th>2</th>\n",
       "      <td>x3</td>\n",
       "      <td>5</td>\n",
       "    </tr>\n",
       "    <tr>\n",
       "      <th>3</th>\n",
       "      <td>x4</td>\n",
       "      <td>4</td>\n",
       "    </tr>\n",
       "    <tr>\n",
       "      <th>4</th>\n",
       "      <td>x5</td>\n",
       "      <td>3</td>\n",
       "    </tr>\n",
       "    <tr>\n",
       "      <th>5</th>\n",
       "      <td>x6</td>\n",
       "      <td>2</td>\n",
       "    </tr>\n",
       "  </tbody>\n",
       "</table>\n",
       "</div>"
      ],
      "text/plain": [
       "  Variable  Demand\n",
       "0       x1       7\n",
       "1       x2       6\n",
       "2       x3       5\n",
       "3       x4       4\n",
       "4       x5       3\n",
       "5       x6       2"
      ]
     },
     "execution_count": 15,
     "metadata": {},
     "output_type": "execute_result"
    }
   ],
   "source": [
    "df = pd.DataFrame({'Variable': Variables,\n",
    "                   'Demand': Demand\n",
    "                    })\n",
    "\n",
    "df"
   ]
  },
  {
   "cell_type": "code",
   "execution_count": 18,
   "metadata": {},
   "outputs": [
    {
     "name": "stdout",
     "output_type": "stream",
     "text": [
      "{'x1': Variable_x1, 'x2': Variable_x2, 'x3': Variable_x3, 'x4': Variable_x4, 'x5': Variable_x5, 'x6': Variable_x6}\n"
     ]
    },
    {
     "data": {
      "text/plain": [
       "Deterministic_Model:\n",
       "MAXIMIZE\n",
       "7*Variable_x1 + 18*Variable_x2 + 30*Variable_x3 + 8*Variable_x4 + 15*Variable_x5 + 6*Variable_x6 + 0\n",
       "SUBJECT TO\n",
       "Leg_12: Variable_x1 + Variable_x2 + Variable_x3 <= 7\n",
       "\n",
       "Leg_23: Variable_x2 + Variable_x3 + Variable_x4 + Variable_x5 <= 8\n",
       "\n",
       "Leg_34: Variable_x3 + Variable_x5 + Variable_x6 <= 9\n",
       "\n",
       "x1: Variable_x1 <= 7\n",
       "\n",
       "x2: Variable_x2 <= 6\n",
       "\n",
       "x3: Variable_x3 <= 5\n",
       "\n",
       "x4: Variable_x4 <= 4\n",
       "\n",
       "x5: Variable_x5 <= 3\n",
       "\n",
       "x6: Variable_x6 <= 2\n",
       "\n",
       "VARIABLES\n",
       "0 <= Variable_x1 Integer\n",
       "0 <= Variable_x2 Integer\n",
       "0 <= Variable_x3 Integer\n",
       "0 <= Variable_x4 Integer\n",
       "0 <= Variable_x5 Integer\n",
       "0 <= Variable_x6 Integer"
      ]
     },
     "execution_count": 18,
     "metadata": {},
     "output_type": "execute_result"
    }
   ],
   "source": [
    "prob = LpProblem('Deterministic_Model', LpMaximize)\n",
    "\n",
    "variables = list(df['Variable'])\n",
    "varsDict = LpVariable.dicts('Variable', variables, lowBound=0, cat='Integer')\n",
    "print(varsDict)\n",
    "\n",
    "prob += lpSum([varsDict[v] * PROFIT[i] for i, v in enumerate(variables)])\n",
    "\n",
    "# Capacity Constraint on each Leg\n",
    "for Index, LEG in enumerate(LEGS):\n",
    "    prob += lpSum([varsDict[v] * Legs[LEG][i] for i, v in enumerate(variables)]) <= Capacity[LEG], 'Leg '+ LEG \n",
    "\n",
    "# Demand Constraint on each OD Trip\n",
    "for Index, V in enumerate(variables):\n",
    "    prob += varsDict[V] <= Demand[Index], V\n",
    "    \n",
    "prob"
   ]
  },
  {
   "cell_type": "code",
   "execution_count": 19,
   "metadata": {},
   "outputs": [
    {
     "data": {
      "text/plain": [
       "1"
      ]
     },
     "execution_count": 19,
     "metadata": {},
     "output_type": "execute_result"
    }
   ],
   "source": [
    "prob.solve()"
   ]
  },
  {
   "cell_type": "code",
   "execution_count": 20,
   "metadata": {},
   "outputs": [
    {
     "name": "stdout",
     "output_type": "stream",
     "text": [
      "Objective:  217.0\n"
     ]
    }
   ],
   "source": [
    "Objective = value(prob.objective)\n",
    "print('Objective: ', Objective)"
   ]
  },
  {
   "cell_type": "code",
   "execution_count": 21,
   "metadata": {},
   "outputs": [
    {
     "name": "stdout",
     "output_type": "stream",
     "text": [
      "Variable_x1 = 1.0\n",
      "Variable_x2 = 1.0\n",
      "Variable_x3 = 5.0\n",
      "Variable_x4 = 0.0\n",
      "Variable_x5 = 2.0\n",
      "Variable_x6 = 2.0\n"
     ]
    }
   ],
   "source": [
    "for v in prob.variables():\n",
    "    print(v.name, '=', v.varValue)"
   ]
  },
  {
   "cell_type": "code",
   "execution_count": null,
   "metadata": {},
   "outputs": [],
   "source": []
  }
 ],
 "metadata": {
  "kernelspec": {
   "display_name": "Python 3",
   "language": "python",
   "name": "python3"
  },
  "language_info": {
   "codemirror_mode": {
    "name": "ipython",
    "version": 3
   },
   "file_extension": ".py",
   "mimetype": "text/x-python",
   "name": "python",
   "nbconvert_exporter": "python",
   "pygments_lexer": "ipython3",
   "version": "3.8.7"
  }
 },
 "nbformat": 4,
 "nbformat_minor": 4
}
